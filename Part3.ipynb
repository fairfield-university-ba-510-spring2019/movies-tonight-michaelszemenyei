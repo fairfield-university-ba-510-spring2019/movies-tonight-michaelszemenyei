{
 "cells": [
  {
   "cell_type": "markdown",
   "metadata": {},
   "source": [
    "# Movies Tonight Part 3: SQL DML"
   ]
  },
  {
   "cell_type": "code",
   "execution_count": 1,
   "metadata": {},
   "outputs": [
    {
     "data": {
      "text/plain": [
       "'Connected: @Movies.db'"
      ]
     },
     "execution_count": 1,
     "metadata": {},
     "output_type": "execute_result"
    }
   ],
   "source": [
    "%load_ext sql\n",
    "%sql sqlite:///Movies.db"
   ]
  },
  {
   "cell_type": "markdown",
   "metadata": {},
   "source": [
    "1. **Load the `DATASET.csv` file into the `Movies.db` database.**  \n",
    "    - Import the CSV file to create a new table called `DATASET`. Follow the example [here](http://www.sqlitetutorial.net/sqlite-import-csv/).\n",
    "    - Use a [`PRAGMA table-info` pseudo-query](https://www.sqlite.org/pragma.html#pragma_table_info) to inspect the design of the new table. [How are we going to handle dates](https://www.sqlite.org/datatype3.html)?"
   ]
  },
  {
   "cell_type": "code",
   "execution_count": 9,
   "metadata": {},
   "outputs": [
    {
     "name": "stdout",
     "output_type": "stream",
     "text": [
      " * sqlite:///Movies.db\n",
      "23 rows affected.\n",
      "Done.\n"
     ]
    },
    {
     "data": {
      "text/html": [
       "<table>\n",
       "    <tr>\n",
       "        <th>MTitle</th>\n",
       "        <th>Rating</th>\n",
       "    </tr>\n",
       "    <tr>\n",
       "        <td>Associate, The</td>\n",
       "        <td>PG-13</td>\n",
       "    </tr>\n",
       "    <tr>\n",
       "        <td>Ghost &amp; The Darkness, The</td>\n",
       "        <td>R</td>\n",
       "    </tr>\n",
       "    <tr>\n",
       "        <td>Independence Day</td>\n",
       "        <td>PG-13</td>\n",
       "    </tr>\n",
       "    <tr>\n",
       "        <td>D3: The Mighty Ducks</td>\n",
       "        <td>PG</td>\n",
       "    </tr>\n",
       "    <tr>\n",
       "        <td>Dear God</td>\n",
       "        <td></td>\n",
       "    </tr>\n",
       "    <tr>\n",
       "        <td>First Wives Club, The</td>\n",
       "        <td>PG-13</td>\n",
       "    </tr>\n",
       "    <tr>\n",
       "        <td>High School High</td>\n",
       "        <td>PG-13</td>\n",
       "    </tr>\n",
       "    <tr>\n",
       "        <td>Larger Than Life</td>\n",
       "        <td>PG</td>\n",
       "    </tr>\n",
       "    <tr>\n",
       "        <td>Mirror Has Two Faces, The</td>\n",
       "        <td>PG-13</td>\n",
       "    </tr>\n",
       "    <tr>\n",
       "        <td>Ransom</td>\n",
       "        <td>R</td>\n",
       "    </tr>\n",
       "    <tr>\n",
       "        <td>Sleepers</td>\n",
       "        <td></td>\n",
       "    </tr>\n",
       "    <tr>\n",
       "        <td>Space Jam</td>\n",
       "        <td>PG</td>\n",
       "    </tr>\n",
       "    <tr>\n",
       "        <td>Stephen King&#x27;s Thinner</td>\n",
       "        <td></td>\n",
       "    </tr>\n",
       "    <tr>\n",
       "        <td>Michael Collins</td>\n",
       "        <td>R</td>\n",
       "    </tr>\n",
       "    <tr>\n",
       "        <td>Romeo &amp; Juliet</td>\n",
       "        <td>R</td>\n",
       "    </tr>\n",
       "    <tr>\n",
       "        <td>Big Night</td>\n",
       "        <td>R</td>\n",
       "    </tr>\n",
       "    <tr>\n",
       "        <td>Fly Away Home</td>\n",
       "        <td>PG</td>\n",
       "    </tr>\n",
       "    <tr>\n",
       "        <td>Nutty Professor, The</td>\n",
       "        <td>PG-13</td>\n",
       "    </tr>\n",
       "    <tr>\n",
       "        <td>Phenomenon</td>\n",
       "        <td>PG</td>\n",
       "    </tr>\n",
       "    <tr>\n",
       "        <td>Set It Off</td>\n",
       "        <td>R</td>\n",
       "    </tr>\n",
       "    <tr>\n",
       "        <td>Surviving Picasso</td>\n",
       "        <td>R</td>\n",
       "    </tr>\n",
       "    <tr>\n",
       "        <td>Very Brady Sequel, A</td>\n",
       "        <td>PG-13</td>\n",
       "    </tr>\n",
       "    <tr>\n",
       "        <td>That Thing You Do</td>\n",
       "        <td>PG</td>\n",
       "    </tr>\n",
       "</table>"
      ],
      "text/plain": [
       "[('Associate, The', 'PG-13'),\n",
       " ('Ghost & The Darkness, The', 'R'),\n",
       " ('Independence Day', 'PG-13'),\n",
       " ('D3: The Mighty Ducks', 'PG'),\n",
       " ('Dear God', ''),\n",
       " ('First Wives Club, The', 'PG-13'),\n",
       " ('High School High', 'PG-13'),\n",
       " ('Larger Than Life', 'PG'),\n",
       " ('Mirror Has Two Faces, The', 'PG-13'),\n",
       " ('Ransom', 'R'),\n",
       " ('Sleepers', ''),\n",
       " ('Space Jam', 'PG'),\n",
       " (\"Stephen King's Thinner\", ''),\n",
       " ('Michael Collins', 'R'),\n",
       " ('Romeo & Juliet', 'R'),\n",
       " ('Big Night', 'R'),\n",
       " ('Fly Away Home', 'PG'),\n",
       " ('Nutty Professor, The', 'PG-13'),\n",
       " ('Phenomenon', 'PG'),\n",
       " ('Set It Off', 'R'),\n",
       " ('Surviving Picasso', 'R'),\n",
       " ('Very Brady Sequel, A', 'PG-13'),\n",
       " ('That Thing You Do', 'PG')]"
      ]
     },
     "execution_count": 9,
     "metadata": {},
     "output_type": "execute_result"
    }
   ],
   "source": [
    "%%sql\n",
    "INSERT INTO MOVIES (MTitle, Rating)\n",
    "    SELECT DISTINCT MTitle, Rating\n",
    "    FROM DATASET;\n",
    "    \n",
    "SELECT DISTINCT MTitle, Rating FROM DATASET;"
   ]
  },
  {
   "cell_type": "markdown",
   "metadata": {},
   "source": [
    "2. **Populate the tables with data.**  \n",
    "\n",
    "    - Use `INSERT ... SELECT ...` queries to extract data from `DATASET` for each table of your other tables. \n",
    "    - Start with the strong entities before moving on to the weak ones. Be sure to always select distinct     values. \n",
    "    - Foreign Keys get special treatment. You will have to use JOINs to pick up the PKs from the other side of the relationships. (As in Part 1, use the fact that movie names, theater names, and people names are always unique in our source data. That way you can use then for the JOIN columns. \n",
    "    - If you have to start over, then rerun your DDL queries from Part 2. "
   ]
  },
  {
   "cell_type": "code",
   "execution_count": 10,
   "metadata": {},
   "outputs": [
    {
     "name": "stdout",
     "output_type": "stream",
     "text": [
      " * sqlite:///Movies.db\n",
      "9 rows affected.\n"
     ]
    },
    {
     "data": {
      "text/plain": [
       "[]"
      ]
     },
     "execution_count": 10,
     "metadata": {},
     "output_type": "execute_result"
    }
   ],
   "source": [
    "%%sql\n",
    "INSERT INTO THEATERS (TName, Location, Phone)\n",
    "    SELECT DISTINCT TName, Location, Phone\n",
    "    FROM DATASET;"
   ]
  },
  {
   "cell_type": "code",
   "execution_count": 11,
   "metadata": {},
   "outputs": [
    {
     "name": "stdout",
     "output_type": "stream",
     "text": [
      " * sqlite:///Movies.db\n",
      "153 rows affected.\n"
     ]
    },
    {
     "data": {
      "text/plain": [
       "[]"
      ]
     },
     "execution_count": 11,
     "metadata": {},
     "output_type": "execute_result"
    }
   ],
   "source": [
    "%%sql\n",
    "INSERT INTO ARTISTS (AName)\n",
    "    SELECT DISTINCT CName\n",
    "    FROM DATASET;"
   ]
  },
  {
   "cell_type": "code",
   "execution_count": 13,
   "metadata": {},
   "outputs": [
    {
     "name": "stdout",
     "output_type": "stream",
     "text": [
      " * sqlite:///Movies.db\n",
      "162 rows affected.\n"
     ]
    },
    {
     "data": {
      "text/plain": [
       "[]"
      ]
     },
     "execution_count": 13,
     "metadata": {},
     "output_type": "execute_result"
    }
   ],
   "source": [
    "%%sql\n",
    "INSERT INTO CREDITS (MID, AID, CCode)\n",
    "SELECT DISTINCT MID, AID, CCode\n",
    "FROM DATASET\n",
    "    JOIN MOVIES ON (MOVIES.MTitle = DATASET.MTitle)\n",
    "    JOIN ARTISTS ON (DATASET.CName = ARTISTS.AName);"
   ]
  },
  {
   "cell_type": "code",
   "execution_count": 14,
   "metadata": {},
   "outputs": [
    {
     "name": "stdout",
     "output_type": "stream",
     "text": [
      " * sqlite:///Movies.db\n",
      "131 rows affected.\n"
     ]
    },
    {
     "data": {
      "text/plain": [
       "[]"
      ]
     },
     "execution_count": 14,
     "metadata": {},
     "output_type": "execute_result"
    }
   ],
   "source": [
    "%%sql\n",
    "INSERT INTO SHOWS (MID, TID, STime)\n",
    "SELECT DISTINCT MID, TID, ShowTime \n",
    "FROM DATASET\n",
    "    JOIN MOVIES ON (DATASET.MTitle = MOVIES.MTitle)\n",
    "    JOIN THEATERS ON (DATASET.TName = THEATERS.TName);"
   ]
  },
  {
   "cell_type": "markdown",
   "metadata": {},
   "source": [
    "3. **Check your work.**  \n",
    "There are 9 theaters, 23 movies, 152 artists, 131 shows, and 161 credits."
   ]
  },
  {
   "cell_type": "code",
   "execution_count": null,
   "metadata": {},
   "outputs": [],
   "source": [
    "YOUR CODE HERE"
   ]
  },
  {
   "cell_type": "markdown",
   "metadata": {},
   "source": [
    "4. **Now check the source data.**  \n",
    "There are actually 13 duplicate rows in the original source data! Can you spot them? Write a SQL query that counts how many times each (MTitle, TName, Showtime, CCode, and CName) appears. Which ones appear more than once?"
   ]
  },
  {
   "cell_type": "code",
   "execution_count": 17,
   "metadata": {},
   "outputs": [
    {
     "name": "stdout",
     "output_type": "stream",
     "text": [
      " * sqlite:///Movies.db\n",
      "Done.\n"
     ]
    },
    {
     "data": {
      "text/html": [
       "<table>\n",
       "    <tr>\n",
       "        <th>COUNT(*)</th>\n",
       "    </tr>\n",
       "    <tr>\n",
       "        <td>913</td>\n",
       "    </tr>\n",
       "</table>"
      ],
      "text/plain": [
       "[(913,)]"
      ]
     },
     "execution_count": 17,
     "metadata": {},
     "output_type": "execute_result"
    }
   ],
   "source": [
    "%%sql\n",
    "SELECT DISTINCT COUNT(*)\n",
    "FROM DATASET;"
   ]
  },
  {
   "cell_type": "code",
   "execution_count": 18,
   "metadata": {},
   "outputs": [
    {
     "name": "stdout",
     "output_type": "stream",
     "text": [
      " * sqlite:///Movies.db\n",
      "Done.\n"
     ]
    },
    {
     "data": {
      "text/html": [
       "<table>\n",
       "    <tr>\n",
       "        <th>COUNT(*)</th>\n",
       "    </tr>\n",
       "    <tr>\n",
       "        <td>913</td>\n",
       "    </tr>\n",
       "</table>"
      ],
      "text/plain": [
       "[(913,)]"
      ]
     },
     "execution_count": 18,
     "metadata": {},
     "output_type": "execute_result"
    }
   ],
   "source": [
    "%%sql\n",
    "SELECT COUNT(*)\n",
    "FROM DATASET;"
   ]
  },
  {
   "cell_type": "markdown",
   "metadata": {},
   "source": [
    "5. **Drop the `DATASET` table.**  \n",
    "We don't need it anymore. "
   ]
  },
  {
   "cell_type": "code",
   "execution_count": 19,
   "metadata": {},
   "outputs": [
    {
     "name": "stdout",
     "output_type": "stream",
     "text": [
      " * sqlite:///Movies.db\n",
      "Done.\n"
     ]
    },
    {
     "data": {
      "text/plain": [
       "[]"
      ]
     },
     "execution_count": 19,
     "metadata": {},
     "output_type": "execute_result"
    }
   ],
   "source": [
    "%%sql\n",
    "DROP TABLE DATASET"
   ]
  },
  {
   "cell_type": "markdown",
   "metadata": {},
   "source": [
    "6. **Save, commit, and push your work to GitHub.**  \n",
    "Use the commit summary comment \"Completed Part 3\"."
   ]
  },
  {
   "cell_type": "code",
   "execution_count": null,
   "metadata": {},
   "outputs": [],
   "source": []
  }
 ],
 "metadata": {
  "kernelspec": {
   "display_name": "Python 3",
   "language": "python",
   "name": "python3"
  },
  "language_info": {
   "codemirror_mode": {
    "name": "ipython",
    "version": 3
   },
   "file_extension": ".py",
   "mimetype": "text/x-python",
   "name": "python",
   "nbconvert_exporter": "python",
   "pygments_lexer": "ipython3",
   "version": "3.6.5"
  }
 },
 "nbformat": 4,
 "nbformat_minor": 2
}
